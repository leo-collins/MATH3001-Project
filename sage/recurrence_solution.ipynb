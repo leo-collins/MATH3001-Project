{
 "cells": [
  {
   "cell_type": "code",
   "execution_count": 2,
   "id": "a86dddf2",
   "metadata": {},
   "outputs": [
    {
     "data": {
      "text/plain": [
       "(x, y, h)"
      ]
     },
     "execution_count": 2,
     "metadata": {},
     "output_type": "execute_result"
    }
   ],
   "source": [
    "var('x y h')"
   ]
  },
  {
   "cell_type": "code",
   "execution_count": 3,
   "id": "7991f052",
   "metadata": {},
   "outputs": [
    {
     "data": {
      "text/plain": [
       "[x == -1/2*(h*y + sqrt(-3*h^2*y^2 + 12*h^2 + 36*h*y + 36) + 6)/h, x == -1/2*(h*y - sqrt(-3*h^2*y^2 + 12*h^2 + 36*h*y + 36) + 6)/h]"
      ]
     },
     "execution_count": 3,
     "metadata": {},
     "output_type": "execute_result"
    }
   ],
   "source": [
    "solve(2*(x - y) == h*(1-(1/3)*(x^2 + x*y + y^2)), x)"
   ]
  },
  {
   "cell_type": "code",
   "execution_count": 9,
   "id": "a0a755cd",
   "metadata": {},
   "outputs": [
    {
     "data": {
      "text/plain": [
       "\\left[y = -\\frac{h x + \\sqrt{-3 \\, h^{2} x^{2} + 12 \\, h^{2} - 36 \\, h x + 36} - 6}{2 \\, h}, y = -\\frac{h x - \\sqrt{-3 \\, h^{2} x^{2} + 12 \\, h^{2} - 36 \\, h x + 36} - 6}{2 \\, h}\\right]"
      ]
     },
     "execution_count": 9,
     "metadata": {},
     "output_type": "execute_result"
    }
   ],
   "source": [
    "latex(solve(2*(x - y) == h*(1-(1/3)*(x^2 + x*y + y^2)), y))"
   ]
  },
  {
   "cell_type": "code",
   "execution_count": 8,
   "id": "d05df2b2",
   "metadata": {},
   "outputs": [
    {
     "data": {
      "text/plain": [
       "\\left[x = -\\frac{h y + \\sqrt{-3 \\, h^{2} y^{2} + 12 \\, h^{2} + 36 \\, h y + 36} + 6}{2 \\, h}, x = -\\frac{h y - \\sqrt{-3 \\, h^{2} y^{2} + 12 \\, h^{2} + 36 \\, h y + 36} + 6}{2 \\, h}\\right]"
      ]
     },
     "execution_count": 8,
     "metadata": {},
     "output_type": "execute_result"
    }
   ],
   "source": [
    "latex(solve(x^2+((6/h) + y)*x+(y^2-(6/h)*y-3) == 0, x))"
   ]
  },
  {
   "cell_type": "code",
   "execution_count": 7,
   "id": "b2bb0b0f",
   "metadata": {},
   "outputs": [
    {
     "data": {
      "text/plain": [
       "\\frac{x}{y}"
      ]
     },
     "execution_count": 7,
     "metadata": {},
     "output_type": "execute_result"
    }
   ],
   "source": [
    "latex(x/y)"
   ]
  },
  {
   "cell_type": "code",
   "execution_count": null,
   "id": "af9b8f4b",
   "metadata": {},
   "outputs": [],
   "source": []
  }
 ],
 "metadata": {
  "kernelspec": {
   "display_name": ".venv",
   "language": "python",
   "name": "python3"
  },
  "language_info": {
   "codemirror_mode": {
    "name": "ipython",
    "version": 3
   },
   "file_extension": ".py",
   "mimetype": "text/x-python",
   "name": "python",
   "nbconvert_exporter": "python",
   "pygments_lexer": "ipython3",
   "version": "3.10.6"
  },
  "vscode": {
   "interpreter": {
    "hash": "b2426e1c50a608becdd6f54b18146d4b80ad2a1e1abb07cbe8cecd614aa140da"
   }
  }
 },
 "nbformat": 4,
 "nbformat_minor": 5
}
