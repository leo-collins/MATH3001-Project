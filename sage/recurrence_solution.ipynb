{
 "cells": [
  {
   "cell_type": "code",
   "execution_count": 4,
   "id": "a86dddf2",
   "metadata": {},
   "outputs": [
    {
     "data": {
      "text/plain": [
       "(x, y, h)"
      ]
     },
     "execution_count": 4,
     "metadata": {},
     "output_type": "execute_result"
    }
   ],
   "source": [
    "var('x y h')"
   ]
  },
  {
   "cell_type": "code",
   "execution_count": 3,
   "id": "7991f052",
   "metadata": {},
   "outputs": [
    {
     "data": {
      "text/plain": [
       "[x == -1/2*(h*y + sqrt(-3*h^2*y^2 + 12*h^2 + 36*h*y + 36) + 6)/h, x == -1/2*(h*y - sqrt(-3*h^2*y^2 + 12*h^2 + 36*h*y + 36) + 6)/h]"
      ]
     },
     "execution_count": 3,
     "metadata": {},
     "output_type": "execute_result"
    }
   ],
   "source": [
    "solve(2*(x - y) == h*(1-(1/3)*(x^2 + x*y + y^2)), x)"
   ]
  },
  {
   "cell_type": "code",
   "execution_count": 5,
   "id": "a0a755cd",
   "metadata": {},
   "outputs": [
    {
     "data": {
      "text/plain": [
       "[y == -1/2*(h*x + sqrt(-3*h^2*x^2 + 12*h^2 - 36*h*x + 36) - 6)/h, y == -1/2*(h*x - sqrt(-3*h^2*x^2 + 12*h^2 - 36*h*x + 36) - 6)/h]"
      ]
     },
     "execution_count": 5,
     "metadata": {},
     "output_type": "execute_result"
    }
   ],
   "source": [
    "solve(2*(x - y) == h*(1-(1/3)*(x^2 + x*y + y^2)), y)"
   ]
  },
  {
   "cell_type": "code",
   "execution_count": null,
   "id": "d05df2b2",
   "metadata": {},
   "outputs": [],
   "source": []
  }
 ],
 "metadata": {
  "kernelspec": {
   "display_name": "SageMath 9.5",
   "language": "sage",
   "name": "sagemath"
  },
  "language_info": {
   "codemirror_mode": {
    "name": "ipython",
    "version": 3
   },
   "file_extension": ".py",
   "mimetype": "text/x-python",
   "name": "python",
   "nbconvert_exporter": "python",
   "pygments_lexer": "ipython3",
   "version": "3.10.6"
  }
 },
 "nbformat": 4,
 "nbformat_minor": 5
}
